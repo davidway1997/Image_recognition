{
  "nbformat": 4,
  "nbformat_minor": 0,
  "metadata": {
    "colab": {
      "provenance": []
    },
    "kernelspec": {
      "name": "python3",
      "display_name": "Python 3"
    },
    "language_info": {
      "name": "python"
    }
  },
  "cells": [
    {
      "cell_type": "code",
      "execution_count": 1,
      "metadata": {
        "colab": {
          "base_uri": "https://localhost:8080/"
        },
        "id": "2-e1Okr5XCMB",
        "outputId": "c0dec8eb-c696-41e5-e669-e2884476f262"
      },
      "outputs": [
        {
          "output_type": "stream",
          "name": "stdout",
          "text": [
            "Drive already mounted at /content/drive; to attempt to forcibly remount, call drive.mount(\"/content/drive\", force_remount=True).\n"
          ]
        }
      ],
      "source": [
        "\n",
        "from google.colab import drive\n",
        "drive.mount('/content/drive') # mount google drive\n",
        "\n",
        "import os\n",
        "os.chdir('/content/drive/MyDrive/Colab Notebooks/connected component labeling') # change working directory"
      ]
    },
    {
      "cell_type": "code",
      "source": [
        "import cv2\n",
        "import google.colab.patches as colab\n",
        "import numpy\n",
        "\n",
        "from Set import DisjointSet"
      ],
      "metadata": {
        "id": "B5EKMGI6XNP-"
      },
      "execution_count": 2,
      "outputs": []
    },
    {
      "cell_type": "code",
      "source": [
        "in_mat = cv2.imread(\"license_plate.bmp\", 0)"
      ],
      "metadata": {
        "id": "jxHaoMQLXQc1"
      },
      "execution_count": 9,
      "outputs": []
    },
    {
      "cell_type": "code",
      "source": [
        "th, binary_mat = cv2.threshold(in_mat, 0, 255, cv2.THRESH_BINARY_INV + cv2.THRESH_OTSU)"
      ],
      "metadata": {
        "id": "xRf1BFA-XSMt"
      },
      "execution_count": 10,
      "outputs": []
    },
    {
      "cell_type": "code",
      "source": [
        "colab.cv2_imshow(binary_mat)"
      ],
      "metadata": {
        "id": "P2M9ehRqXStF",
        "colab": {
          "base_uri": "https://localhost:8080/",
          "height": 417
        },
        "outputId": "214e96a8-9cb8-4b9f-b1d4-13ebbbee1aa1"
      },
      "execution_count": 11,
      "outputs": [
        {
          "output_type": "display_data",
          "data": {
            "text/plain": [
              "<PIL.Image.Image image mode=L size=1024x400 at 0x7F33984E0390>"
            ],
            "image/png": "[encoded data removed]"
          },
          "metadata": {}
        }
      ]
    },
    {
      "cell_type": "code",
      "source": [
        "label_mat = numpy.zeros(binary_mat.shape, dtype=numpy.int32)"
      ],
      "metadata": {
        "id": "5ftN0B4jXUVt"
      },
      "execution_count": 12,
      "outputs": []
    },
    {
      "cell_type": "code",
      "source": [
        "new_label = 1\n",
        "equivalences = list()"
      ],
      "metadata": {
        "id": "epm7K6O4XWXd"
      },
      "execution_count": 13,
      "outputs": []
    },
    {
      "cell_type": "code",
      "source": [
        "for r in range(1, binary_mat.shape[0]):\n",
        "  for c in range(1, binary_mat.shape[1]):\n",
        "    if binary_mat[r, c] != 0:\n",
        "\n",
        "      # (1) assign a temporal label to point (r, c)\n",
        "\n",
        "      # collect labels in adjacent points including upper and left points\n",
        "      adjacent_labels = list()\n",
        "      \n",
        "      # upper point (r-1, c)\n",
        "      upper_label = label_mat[r-1, c]\n",
        "      if (upper_label != 0):\n",
        "        adjacent_labels.append(upper_label)\n",
        "\n",
        "      # left point (r, c-1)\n",
        "      left_label = label_mat[r, c-1]\n",
        "      if (left_label != 0 and left_label != upper_label):\n",
        "        adjacent_labels.append(left_label)\n",
        "      \n",
        "      # assign label to the point at (r,c) according to adjacent_labels\n",
        "      if len(adjacent_labels) == 0:\n",
        "        label_mat[r, c] = new_label   # assign a new label\n",
        "        new_label = new_label + 1      \n",
        "      else:\n",
        "        label_mat[r, c] = min(adjacent_labels) # assign a new label\n",
        "\n",
        "      #(2) record label equivalence\n",
        "      if len(adjacent_labels) == 2:\n",
        "        a_equivalence = list([adjacent_labels[0], adjacent_labels[1]])\n",
        "        equivalences.append(a_equivalence)"
      ],
      "metadata": {
        "id": "FDYtg51bXYFt"
      },
      "execution_count": 14,
      "outputs": []
    },
    {
      "cell_type": "code",
      "source": [
        "# resolve label equivalence \n",
        "disjoint_set = DisjointSet()\n",
        "disjoint_set.makeSet(new_label)"
      ],
      "metadata": {
        "id": "Avxyrf5ZXaJm"
      },
      "execution_count": 15,
      "outputs": []
    },
    {
      "cell_type": "code",
      "source": [
        "for i in range(len(equivalences)):\n",
        "  a_equivalence = equivalences[i]\n",
        "  disjoint_set.union(a_equivalence[0], a_equivalence[1])"
      ],
      "metadata": {
        "id": "j3DslC1iXb7m"
      },
      "execution_count": 16,
      "outputs": []
    },
    {
      "cell_type": "code",
      "source": [
        "for r in range(1, label_mat.shape[0]):\n",
        "  for c in range(1, label_mat.shape[1]):\n",
        "    if label_mat[r, c] != 0:\n",
        "      # get the temporal label\n",
        "      temporal_label = label_mat[r, c]\n",
        "\n",
        "      # find the minimum label\n",
        "      min_label = disjoint_set.find(temporal_label)\n",
        "\n",
        "      # replace the label\n",
        "      label_mat[r, c] = min_label"
      ],
      "metadata": {
        "id": "GllzqEncXdiV"
      },
      "execution_count": 17,
      "outputs": []
    },
    {
      "cell_type": "code",
      "source": [
        "labels = [0] # let the background as the region 0\n",
        "\n",
        "for r in range(1, label_mat.shape[0]):\n",
        "  for c in range(1, label_mat.shape[1]):\n",
        "    if label_mat[r, c] != 0:\n",
        "\n",
        "      # check if the label is in labels\n",
        "      if not (label_mat[r, c] in labels):\n",
        "        labels.append(label_mat[r, c])  # add the label to the list\n",
        "\n",
        "      # replace label by its position index in labels\n",
        "      label_mat[r, c] = labels.index(label_mat[r, c])"
      ],
      "metadata": {
        "id": "ephSEQhQXfgO"
      },
      "execution_count": 19,
      "outputs": []
    },
    {
      "cell_type": "code",
      "source": [
        "n_regions = len(labels)\n",
        "print(f'no. of regions:{n_regions}')"
      ],
      "metadata": {
        "id": "oKMtK59eXiP9",
        "colab": {
          "base_uri": "https://localhost:8080/"
        },
        "outputId": "09eb38a2-7dbb-441b-b76e-412d266269bb"
      },
      "execution_count": 20,
      "outputs": [
        {
          "output_type": "stream",
          "name": "stdout",
          "text": [
            "no. of regions:250\n"
          ]
        }
      ]
    },
    {
      "cell_type": "code",
      "source": [
        "display_mat = numpy.zeros((label_mat.shape[0], label_mat.shape[1], 3), dtype=numpy.uint8)\n",
        "color_plate = numpy.random.randint(0, 256, size=(n_regions, 3))\n",
        "color_plate[0] = 255 # paint the background (region 0) with white color"
      ],
      "metadata": {
        "id": "igBcVBmIXj-1"
      },
      "execution_count": 21,
      "outputs": []
    },
    {
      "cell_type": "code",
      "source": [
        "for r in range(0, label_mat.shape[0]):\n",
        "  for c in range(0, label_mat.shape[1]):\n",
        "    color = color_plate[label_mat[r, c]] # get the color\n",
        "    display_mat[r, c] = color # paint the point [r,c]"
      ],
      "metadata": {
        "id": "-iFCN3ZfXlrU"
      },
      "execution_count": 22,
      "outputs": []
    },
    {
      "cell_type": "code",
      "source": [
        "colab.cv2_imshow(display_mat)"
      ],
      "metadata": {
        "id": "8PJzc13cXngd",
        "colab": {
          "base_uri": "https://localhost:8080/",
          "height": 417
        },
        "outputId": "f809dc5b-6002-4d48-bff6-3cedd9c8150f"
      },
      "execution_count": 23,
      "outputs": [
        {
          "output_type": "display_data",
          "data": {
            "text/plain": [
              "<PIL.Image.Image image mode=RGB size=1024x400 at 0x7F33973782D0>"
            ],
            "image/png": "[encoded data removed]"
          },
          "metadata": {}
        }
      ]
    }
  ]
}