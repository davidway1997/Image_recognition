{
  "nbformat": 4,
  "nbformat_minor": 0,
  "metadata": {
    "colab": {
      "provenance": []
    },
    "kernelspec": {
      "name": "python3",
      "display_name": "Python 3"
    },
    "language_info": {
      "name": "python"
    }
  },
  "cells": [
    {
      "cell_type": "code",
      "source": [
        "from google.colab import drive\n",
        "drive.mount('/content/drive')\n",
        "\n",
        "import os\n",
        "os.chdir('/content/drive/MyDrive/Colab Notebooks/HOGxSVM') # change working directory"
      ],
      "metadata": {
        "colab": {
          "base_uri": "https://localhost:8080/"
        },
        "id": "MLMacbvQ6kSq",
        "outputId": "6a29a1ff-a7ec-4fa2-dc1c-af7b318c7a81"
      },
      "execution_count": 1,
      "outputs": [
        {
          "output_type": "stream",
          "name": "stdout",
          "text": [
            "Drive already mounted at /content/drive; to attempt to forcibly remount, call drive.mount(\"/content/drive\", force_remount=True).\n"
          ]
        }
      ]
    },
    {
      "cell_type": "code",
      "source": [
        "import cv2\n",
        "import numpy\n",
        "import google.colab.patches as colab\n",
        "from MNIST import MNIST"
      ],
      "metadata": {
        "id": "i2f6uirD7r5j"
      },
      "execution_count": 2,
      "outputs": []
    },
    {
      "cell_type": "code",
      "source": [
        "mnist_train = MNIST('/content/drive/MyDrive/Colab Notebooks/HOGxSVM/train-images.idx3-ubyte',\n",
        "'/content/drive/MyDrive/Colab Notebooks/HOGxSVM/train-labels.idx1-ubyte')"
      ],
      "metadata": {
        "id": "bl0SMTYr8W4l"
      },
      "execution_count": 4,
      "outputs": []
    },
    {
      "cell_type": "code",
      "source": [
        "image,label = mnist_train.getitem(10)"
      ],
      "metadata": {
        "id": "CSwFC0q2AnA7"
      },
      "execution_count": 5,
      "outputs": []
    },
    {
      "cell_type": "code",
      "source": [
        "colab.cv2_imshow(image)\n",
        "print(f'{label}:{image.shape}')"
      ],
      "metadata": {
        "colab": {
          "base_uri": "https://localhost:8080/",
          "height": 62
        },
        "id": "IqjA29ZqAwdy",
        "outputId": "684f460c-2b9c-40ef-d0fa-d5564d239959"
      },
      "execution_count": 6,
      "outputs": [
        {
          "output_type": "display_data",
          "data": {
            "text/plain": [
              "<PIL.Image.Image image mode=RGB size=28x28 at 0x7F1140F08E10>"
            ],
            "image/png": "[encoded data removed]"
          },
          "metadata": {}
        },
        {
          "output_type": "stream",
          "name": "stdout",
          "text": [
            "3:(28, 28, 1)\n"
          ]
        }
      ]
    },
    {
      "cell_type": "code",
      "source": [
        "winSize = (28,28)\n",
        "blockSize = (28,28)\n",
        "blockStride = (1,1)\n",
        "cellSize = (14,14)\n",
        "nbins = 9\n",
        "HOG = cv2.HOGDescriptor(winSize, blockSize, blockStride, cellSize, nbins)\n",
        "n_train = len(mnist_train)\n",
        "train_image_mat = numpy.zeros((n_train, 36), dtype=numpy.float32)\n",
        "train_label_mat = numpy.zeros((n_train),dtype=int)"
      ],
      "metadata": {
        "id": "t4KwydSWA_kZ"
      },
      "execution_count": 7,
      "outputs": []
    },
    {
      "cell_type": "code",
      "source": [
        "for index in range(n_train):\n",
        "  # get an item\n",
        "  image, label = mnist_train.getitem(index)\n",
        "  # apply HOG descriptor\n",
        "  a_hog = HOG.compute(image)\n",
        "  a_hog = a_hog.reshape(-1)\n",
        "  a_hog = a_hog.astype(numpy.float32)\n",
        "  # put the data to numpy array\n",
        "  train_image_mat[index] = a_hog\n",
        "  train_label_mat[index] = label"
      ],
      "metadata": {
        "id": "pifI2FUmBY9r"
      },
      "execution_count": 9,
      "outputs": []
    },
    {
      "cell_type": "code",
      "source": [
        "svm = cv2.ml.SVM_create()\n",
        "svm.setType(cv2.ml.SVM_C_SVC)\n",
        "svm.setKernel(cv2.ml.SVM_LINEAR)\n",
        "svm.setTermCriteria((cv2.TERM_CRITERIA_MAX_ITER, 10000, 1e-6))"
      ],
      "metadata": {
        "id": "e-8iuANbC3Vj"
      },
      "execution_count": 10,
      "outputs": []
    },
    {
      "cell_type": "code",
      "source": [
        "svm.train(train_image_mat, cv2.ml.ROW_SAMPLE, train_label_mat)"
      ],
      "metadata": {
        "colab": {
          "base_uri": "https://localhost:8080/"
        },
        "id": "8gVz0BiqD446",
        "outputId": "8617366e-b1dc-4fbd-80c5-2ecbcaffe078"
      },
      "execution_count": 11,
      "outputs": [
        {
          "output_type": "execute_result",
          "data": {
            "text/plain": [
              "True"
            ]
          },
          "metadata": {},
          "execution_count": 11
        }
      ]
    },
    {
      "cell_type": "code",
      "source": [
        "mnist_test = MNIST(\"/content/drive/MyDrive/Colab Notebooks/HOGxSVM/t10k-images.idx3-ubyte\",\n",
        "\"/content/drive/MyDrive/Colab Notebooks/HOGxSVM/t10k-labels.idx1-ubyte\")"
      ],
      "metadata": {
        "id": "k9t8jgCyD6tC"
      },
      "execution_count": 15,
      "outputs": []
    },
    {
      "cell_type": "code",
      "source": [
        "n_test = len(mnist_test)\n",
        "n_correct = 0\n",
        "n_wrong = 0\n",
        "for index in range(n_test):\n",
        "  # get an item\n",
        "  image, label = mnist_test.getitem(index)\n",
        "\n",
        "  # apply HOG descriptor\n",
        "  a_hog = HOG.compute(image)\n",
        "  a_hog = a_hog.reshape((1,-1))\n",
        "  a_hog = a_hog.astype(numpy.float32)\n",
        "  result = svm.predict(a_hog)\n",
        "  result = int(result[1])\n",
        "  if result == label:\n",
        "    n_correct = n_correct + 1\n",
        "  else:\n",
        "    n_wrong = n_wrong + 1"
      ],
      "metadata": {
        "id": "DCEJIf_ND8fq"
      },
      "execution_count": 16,
      "outputs": []
    },
    {
      "cell_type": "code",
      "source": [
        "accuracy = n_correct / n_test\n",
        "print(f'{n_correct}')\n",
        "print(f'accuracy:{accuracy*100.}')"
      ],
      "metadata": {
        "colab": {
          "base_uri": "https://localhost:8080/"
        },
        "id": "sth9IhQKD-0C",
        "outputId": "a7ff2d85-2f7a-4ad7-e17b-bd5a9e5fd534"
      },
      "execution_count": 18,
      "outputs": [
        {
          "output_type": "stream",
          "name": "stdout",
          "text": [
            "9261\n",
            "accuracy:92.61\n"
          ]
        }
      ]
    }
  ]
}